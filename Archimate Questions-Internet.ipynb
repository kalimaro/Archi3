{
 "cells": [
  {
   "cell_type": "code",
   "execution_count": 41,
   "id": "69b704c9",
   "metadata": {
    "scrolled": true
   },
   "outputs": [
    {
     "name": "stdout",
     "output_type": "stream",
     "text": [
      "\n",
      "1) The element that denoted by using boxes with diagonal corners is __________.\n",
      "   a) Active structure\n",
      "   b) Behavior\n",
      "   c) Passive structure\n",
      "   d) Motivation\n",
      "\n"
     ]
    },
    {
     "name": "stdin",
     "output_type": "stream",
     "text": [
      "Enter response:  d\n"
     ]
    },
    {
     "name": "stdout",
     "output_type": "stream",
     "text": [
      "\n",
      "2) Which of the following statement is correct regarding Structural Relationships?\n",
      "   A) It describes that the element on the source side contains, groups, performs, or realises the concept on the target side of the relationship\n",
      "   B) It represents that an element combines one or more other concepts\n",
      "   C) It represents the ability of behaviour and active structure elements to observe or act upon passive structure elements\n",
      "   D) It represents that an element affects the implementation or achievement of some motivation element\n",
      "\n"
     ]
    },
    {
     "name": "stdin",
     "output_type": "stream",
     "text": [
      "Enter response:  a\n"
     ]
    },
    {
     "name": "stdout",
     "output_type": "stream",
     "text": [
      "\n",
      "3) Application components and application services can be depicted by _______________.\n",
      "   a) The Technology Layer\n",
      "   b) All Layer\n",
      "   c) The Business Layer\n",
      "   d) The Application Layer\n",
      "\n"
     ]
    },
    {
     "name": "stdin",
     "output_type": "stream",
     "text": [
      "Enter response:  d\n"
     ]
    },
    {
     "name": "stdout",
     "output_type": "stream",
     "text": [
      "\n",
      "4) How many layers of the ArchiMate core language?\n",
      "   A) Two\n",
      "   B) Three\n",
      "   C) Four\n",
      "   D) Five\n",
      "\n"
     ]
    },
    {
     "name": "stdin",
     "output_type": "stream",
     "text": [
      "Enter response:  b\n"
     ]
    },
    {
     "name": "stdout",
     "output_type": "stream",
     "text": [
      "\n",
      "5) How many types are there in dependency relationship?\n",
      "   A) Two\n",
      "   B) Four\n",
      "   C) Six\n",
      "   D) Eight\n",
      "\n"
     ]
    },
    {
     "name": "stdin",
     "output_type": "stream",
     "text": [
      "Enter response:  b\n"
     ]
    },
    {
     "name": "stdout",
     "output_type": "stream",
     "text": [
      "Question 1) D\n",
      "Question 2) A\n",
      "Question 3) D\n",
      "Question 4) B\n",
      "Question 5) B\n",
      "\n",
      "No wrong answers! Congrats!\n",
      "\n",
      "Your final score is: 100.0%\n"
     ]
    }
   ],
   "source": [
    "import pandas as pd\n",
    "\n",
    "#url = \"Archimate Data Bank.csv\"\n",
    "#df = pd.read_csv(url)\n",
    "\n",
    "# Example: Print the first few rows of the DataFrame\n",
    "#print(df.head())\n",
    "import csv\n",
    "from random import shuffle\n",
    "import pandas as pd\n",
    "\n",
    "#Global initializations\n",
    "rights = 0\n",
    "questions_list = []\n",
    "list_responses = []\n",
    "wrong_questions = []\n",
    "\n",
    "f = open ('Archimate Data Bank.csv',encoding='UTF8')\n",
    "csv_reader = csv.reader(f)\n",
    "for line in csv_reader:\n",
    "    questions_list.append(line[0])\n",
    "f.close()\n",
    "\n",
    "shuffle(questions_list)\n",
    "newlist = questions_list[:5]\n",
    "#print (newlist)\n",
    "\n",
    "#print questions\n",
    "questions_nums = 1\n",
    "for qt in newlist:\n",
    "    f = open ('Archimate Data Bank.csv',\"r\", encoding='UTF8')\n",
    "    csv_reader = csv.reader(f)\n",
    "    for line in csv_reader:\n",
    "        if line[0]== qt :\n",
    "            print (\"\\n\"+str(questions_nums)+\") \"+line[1]+\"\\n   \"+line[2]+\"\\n   \"+line[3]+\"\\n   \"+line[4]+\"\\n   \"+line[5]+\"\\n\") \n",
    "            response = input(\"Enter response: \")\n",
    "            if response.upper() == line[6]:\n",
    "                rights = rights+1\n",
    "            else:\n",
    "                wrong_questions.append(questions_nums)\n",
    "            list_responses.append(line[6])\n",
    "            questions_nums = questions_nums+1\n",
    "    f.close()\n",
    "    \n",
    "#Print response list and wrong answers\n",
    "for i in range(len(list_responses)):\n",
    "    print(\"Question \"+str(i+1)+\") \"+list_responses[i])\n",
    "          \n",
    "if wrong_questions == []:\n",
    "    print (\"\\nNo wrong answers! Congrats!\")\n",
    "else:\n",
    "    print (\"Wrong Questions:\\n\")\n",
    "    for w in wrong_questions:\n",
    "        print (\"Question: \"+str(w))\n",
    "    \n",
    "final_score = rights/len(list_responses)*100\n",
    "print (\"\\nYour final score is: \"+str(final_score)+\"%\")"
   ]
  },
  {
   "cell_type": "code",
   "execution_count": null,
   "id": "7ea93fd2-3acf-4390-823d-1c5ef9801349",
   "metadata": {},
   "outputs": [],
   "source": []
  }
 ],
 "metadata": {
  "kernelspec": {
   "display_name": "anaconda-2022.05-py39",
   "language": "python",
   "name": "conda-env-anaconda-2022.05-py39-py"
  },
  "language_info": {
   "codemirror_mode": {
    "name": "ipython",
    "version": 3
   },
   "file_extension": ".py",
   "mimetype": "text/x-python",
   "name": "python",
   "nbconvert_exporter": "python",
   "pygments_lexer": "ipython3",
   "version": "3.9.12"
  }
 },
 "nbformat": 4,
 "nbformat_minor": 5
}
